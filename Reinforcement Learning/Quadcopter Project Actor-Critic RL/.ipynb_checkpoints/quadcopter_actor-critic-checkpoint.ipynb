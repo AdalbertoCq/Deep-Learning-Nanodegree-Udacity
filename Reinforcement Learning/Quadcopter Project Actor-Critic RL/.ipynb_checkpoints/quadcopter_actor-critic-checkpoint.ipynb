{
 "cells": [
  {
   "cell_type": "code",
   "execution_count": 4,
   "metadata": {
    "collapsed": true
   },
   "outputs": [],
   "source": [
    "from collections import deque\n",
    "import keras.models, keras.layers, keras.optimizers\n",
    "import numpy as np"
   ]
  },
  {
   "cell_type": "code",
   "execution_count": null,
   "metadata": {
    "collapsed": true
   },
   "outputs": [],
   "source": [
    "class ExperienceReplayBuffer:\n",
    "    def __init__(self, capacity, batch_size):\n",
    "        self.batch_size = batch_size\n",
    "        self.mem = deque(maxlen=capacity)\n",
    "        \n",
    "    def add_env_reaction(self, env_reaction):\n",
    "        # St, At, Rt1, St1.\n",
    "        self.mem.append(env_reaction)\n",
    "    \n",
    "    def sample_batch(self):\n",
    "        indexes = np.random.choice(a=np.arange(len(self.meme)), size=batch_size)\n",
    "        states = list()\n",
    "        actions = list()\n",
    "        rewards = list()\n",
    "        next_states = list()\n",
    "        for index in indexes:\n",
    "            st, at, rt, st_1 = self.mem[index]\n",
    "            states.append(st)\n",
    "            actions.append(at)\n",
    "            rewards.append(rt)\n",
    "            next_states.append(st_1)      \n",
    "        return np.array(states), np.array(actions), np.array(rewards), np.array(next_states)\n"
   ]
  },
  {
   "cell_type": "code",
   "execution_count": 6,
   "metadata": {
    "collapsed": true
   },
   "outputs": [],
   "source": [
    "class Actor:\n",
    "    def __init__(self, state_space, action_space, action_range, action_min, model_spec, learning_rate, name):\n",
    "        self.state_space = state_space\n",
    "        self.action_space = action_space\n",
    "        self.learning_rate = learning_rate\n",
    "        self.name = name\n",
    "        \n",
    "        # Neural Network definition.\n",
    "        self.actor_model = Sequential()\n",
    "        model.add(Input(shape=(state_space, ), dtype=keras.float32, name='input_states'))\n",
    "        \n",
    "        for ind, hidden_units in enumerate(model_spec):\n",
    "            model.add(Dense(hidden_units, activation='relu', name='layer%s'%ind))\n",
    "            \n",
    "        model.add(Dense(self.action_space, actication='sigmoid', name='normalized_action_out'))\n",
    "        "
   ]
  }
 ],
 "metadata": {
  "kernelspec": {
   "display_name": "Python [conda env:anaconda3]",
   "language": "python",
   "name": "conda-env-anaconda3-py"
  },
  "language_info": {
   "codemirror_mode": {
    "name": "ipython",
    "version": 3
   },
   "file_extension": ".py",
   "mimetype": "text/x-python",
   "name": "python",
   "nbconvert_exporter": "python",
   "pygments_lexer": "ipython3",
   "version": "3.6.3"
  }
 },
 "nbformat": 4,
 "nbformat_minor": 2
}
