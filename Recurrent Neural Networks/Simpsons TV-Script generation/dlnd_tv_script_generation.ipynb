{
 "cells": [
  {
   "cell_type": "markdown",
   "metadata": {},
   "source": [
    "# TV Script Generation\n",
    "In this project, you'll generate your own [Simpsons](https://en.wikipedia.org/wiki/The_Simpsons) TV scripts using RNNs.  You'll be using part of the [Simpsons dataset](https://www.kaggle.com/wcukierski/the-simpsons-by-the-data) of scripts from 27 seasons.  The Neural Network you'll build will generate a new TV script for a scene at [Moe's Tavern](https://simpsonswiki.com/wiki/Moe's_Tavern).\n",
    "## Get the Data\n",
    "The data is already provided for you.  You'll be using a subset of the original dataset.  It consists of only the scenes in Moe's Tavern.  This doesn't include other versions of the tavern, like \"Moe's Cavern\", \"Flaming Moe's\", \"Uncle Moe's Family Feed-Bag\", etc.."
   ]
  },
  {
   "cell_type": "code",
   "execution_count": 1,
   "metadata": {},
   "outputs": [],
   "source": [
    "\"\"\"\n",
    "DON'T MODIFY ANYTHING IN THIS CELL\n",
    "\"\"\"\n",
    "import helper\n",
    "\n",
    "data_dir = './data/simpsons/moes_tavern_lines.txt'\n",
    "text = helper.load_data(data_dir)\n",
    "# Ignore notice, since we don't use it for analysing the data\n",
    "text = text[81:]"
   ]
  },
  {
   "cell_type": "markdown",
   "metadata": {},
   "source": [
    "## Explore the Data\n",
    "Play around with `view_sentence_range` to view different parts of the data."
   ]
  },
  {
   "cell_type": "code",
   "execution_count": 2,
   "metadata": {},
   "outputs": [
    {
     "name": "stdout",
     "output_type": "stream",
     "text": [
      "Dataset Stats\n",
      "Roughly the number of unique words: 11492\n",
      "Number of scenes: 262\n",
      "Average number of sentences in each scene: 15.248091603053435\n",
      "Number of lines: 4257\n",
      "Average number of words in each line: 11.50434578341555\n",
      "\n",
      "The sentences 350 to 400:\n",
      "Moe_Szyslak: Barney, don't steal any beer while I'm gone.\n",
      "Barney_Gumble: (SHAKING HIS HEAD) What kind of pathetic drunk do you take me for? (GASP) Somebody spilled beer in this ashtray. (SLURPS IT, THEN SIGHS)\n",
      "\n",
      "\n",
      "Moe_Szyslak: Hey, Homer, phone call.\n",
      "\n",
      "\n",
      "Barney_Gumble: Uh-oh. My heart just stopped. (LONG BEAT) Ah, there it goes.\n",
      "Moe_Szyslak: Ivana Tinkle. Just a sec. Ivana Tinkle. Ivana Tinkle. All right, everybody put down your glasses. Ivana Tinkle.\n",
      "Captain: Har, har, har.\n",
      "\n",
      "\n",
      "Moe_Szyslak: Here you go, Mr. Plow. A beer on the house.\n",
      "Barney_Gumble: Wow, Moe, you didn't even give a beer to those freed Iranian hostages.\n",
      "Teenage_Barney: I don't know. The SAT's are tomorrow.\n",
      "Moe_Szyslak: Ah, they shouldn't have been there in the first place. But Homer is a real hero.\n",
      "Barney_Gumble: I wish I was a hero.\n",
      "Homer_Simpson: Well wishing won't make it so. You've got to pull up your diaper, get out there, and be the best damn Barney you can be.\n",
      "Barney_Gumble: Here I come world!\n",
      "Homer_Simpson: How do you think he'll do, Moe?\n",
      "Moe_Szyslak: (PROUDLY) I think he'll do just fine.\n",
      "Moe_Szyslak: (TO BARNEY) Linda Ronstadt? How'd you get her?\n",
      "Barney_Gumble: Eh, we've been lookin' for a project to do together for a while.\n",
      "Linda_Ronstadt: (SINGING) WHEN THE SNOW STARTS A FALLIN'... THERE'S A MAN YOU SHOULD BE CALLIN'... THAT'S KL5-4796 -- LET IT RING; /MR. PLOW IS A LOSER AND / I THINK HE IS A BOOZER...\n",
      "Barney_Gumble: (SINGING) SO YOU BETTER MAKE THAT CALL TO THE PLOW KING.\n",
      "Homer_Simpson: How could you, Barney? After all I've done for you.\n",
      "Teenage_Barney: (INTELLIGENT) Lachrymose is to dyspeptic as ebullient is to... (THINKS) effervescent! (CHECKS ANSWER) All right! Harvard here I come!\n",
      "Teenage_Barney: All right. Just one -- if it'll get you off my back.\n",
      "Teenage_Barney: Hey, where have (BELCHES \"YOU\") been all my life?\n",
      "\n",
      "\n",
      "Moe_Szyslak: Let's have a minute of silent prayer for our good friend Homer Simpson.\n",
      "Barney_Gumble: How long has it been?\n",
      "Moe_Szyslak: Six seconds.\n",
      "Barney_Gumble: Do we have to start over?\n",
      "Moe_Szyslak: Hell, no.\n",
      "\n",
      "\n",
      "Moe_Szyslak: (READING) \"To Moe -- From Your Secret Admirer.\"\n",
      "Barney_Gumble: (GIVES A LITTLE WAVE) Yoo hoo!\n",
      "Moe_Szyslak: Oh, God, no.\n",
      "\n",
      "\n",
      "Moe_Szyslak: (SNIDE) Well, well look who it is. Mr. \"I don't need alcohol to enjoy life.\" We hate him, right fellas?\n",
      "Homer_Simpson: Moe, gimme a beer.\n",
      "Moe_Szyslak: (CHEERY) Hey everybody! Homer's back!\n",
      "Moe_Szyslak: (A LITTLE TOO DESPERATE) C'mon Homer. Do it for your old pal Moesy.\n",
      "Barney_Gumble: But Moe. Yesterday you called Homer a worthless sack of...\n",
      "Moe_Szyslak: Pipe down, rub-a-dub.\n",
      "Barney_Gumble: Ow.\n"
     ]
    }
   ],
   "source": [
    "view_sentence_range = (350, 400)\n",
    "\n",
    "\"\"\"\n",
    "DON'T MODIFY ANYTHING IN THIS CELL\n",
    "\"\"\"\n",
    "import numpy as np\n",
    "\n",
    "print('Dataset Stats')\n",
    "print('Roughly the number of unique words: {}'.format(len({word: None for word in text.split()})))\n",
    "scenes = text.split('\\n\\n')\n",
    "print('Number of scenes: {}'.format(len(scenes)))\n",
    "sentence_count_scene = [scene.count('\\n') for scene in scenes]\n",
    "print('Average number of sentences in each scene: {}'.format(np.average(sentence_count_scene)))\n",
    "\n",
    "sentences = [sentence for scene in scenes for sentence in scene.split('\\n')]\n",
    "print('Number of lines: {}'.format(len(sentences)))\n",
    "word_count_sentence = [len(sentence.split()) for sentence in sentences]\n",
    "print('Average number of words in each line: {}'.format(np.average(word_count_sentence)))\n",
    "\n",
    "print()\n",
    "print('The sentences {} to {}:'.format(*view_sentence_range))\n",
    "print('\\n'.join(text.split('\\n')[view_sentence_range[0]:view_sentence_range[1]]))"
   ]
  },
  {
   "cell_type": "markdown",
   "metadata": {},
   "source": [
    "## Implement Preprocessing Functions\n",
    "The first thing to do to any dataset is preprocessing.  Implement the following preprocessing functions below:\n",
    "- Lookup Table\n",
    "- Tokenize Punctuation\n",
    "\n",
    "### Lookup Table\n",
    "To create a word embedding, you first need to transform the words to ids.  In this function, create two dictionaries:\n",
    "- Dictionary to go from the words to an id, we'll call `vocab_to_int`\n",
    "- Dictionary to go from the id to word, we'll call `int_to_vocab`\n",
    "\n",
    "Return these dictionaries in the following tuple `(vocab_to_int, int_to_vocab)`"
   ]
  },
  {
   "cell_type": "code",
   "execution_count": 3,
   "metadata": {},
   "outputs": [
    {
     "name": "stdout",
     "output_type": "stream",
     "text": [
      "Tests Passed\n"
     ]
    }
   ],
   "source": [
    "import numpy as np\n",
    "from collections import Counter\n",
    "import problem_unittests as tests\n",
    "\n",
    "def create_lookup_tables(text):\n",
    "    \"\"\"\n",
    "    Create lookup tables for vocabulary\n",
    "    :param text: The text of tv scripts split into words\n",
    "    :return: A tuple of dicts (vocab_to_int, int_to_vocab)\n",
    "    \"\"\"\n",
    "    counter = Counter(text)\n",
    "    vocabulary = sorted(counter, key=counter.get, reverse=True)\n",
    "    vocab_to_int = {word:index for index, word in enumerate(vocabulary)}\n",
    "    int_to_vocab = {index:word for index, word in enumerate(vocabulary)}\n",
    "    return vocab_to_int, int_to_vocab\n",
    "\n",
    "\n",
    "\"\"\"\n",
    "DON'T MODIFY ANYTHING IN THIS CELL THAT IS BELOW THIS LINE\n",
    "\"\"\"\n",
    "tests.test_create_lookup_tables(create_lookup_tables)"
   ]
  },
  {
   "cell_type": "markdown",
   "metadata": {},
   "source": [
    "### Tokenize Punctuation\n",
    "We'll be splitting the script into a word array using spaces as delimiters.  However, punctuations like periods and exclamation marks make it hard for the neural network to distinguish between the word \"bye\" and \"bye!\".\n",
    "\n",
    "Implement the function `token_lookup` to return a dict that will be used to tokenize symbols like \"!\" into \"||Exclamation_Mark||\".  Create a dictionary for the following symbols where the symbol is the key and value is the token:\n",
    "- Period ( . )\n",
    "- Comma ( , )\n",
    "- Quotation Mark ( \" )\n",
    "- Semicolon ( ; )\n",
    "- Exclamation mark ( ! )\n",
    "- Question mark ( ? )\n",
    "- Left Parentheses ( ( )\n",
    "- Right Parentheses ( ) )\n",
    "- Dash ( -- )\n",
    "- Return ( \\n )\n",
    "\n",
    "This dictionary will be used to token the symbols and add the delimiter (space) around it.  This separates the symbols as it's own word, making it easier for the neural network to predict on the next word. Make sure you don't use a token that could be confused as a word. Instead of using the token \"dash\", try using something like \"||dash||\"."
   ]
  },
  {
   "cell_type": "code",
   "execution_count": 4,
   "metadata": {},
   "outputs": [
    {
     "name": "stdout",
     "output_type": "stream",
     "text": [
      "Tests Passed\n"
     ]
    }
   ],
   "source": [
    "def token_lookup():\n",
    "    \"\"\"\n",
    "    Generate a dict to turn punctuation into a token.\n",
    "    :return: Tokenize dictionary where the key is the punctuation and the value is the token\n",
    "    \"\"\"\n",
    "    tokens = {}\n",
    "    tokens['.'] = '||Period||'\n",
    "    tokens[','] = '||Comma||'\n",
    "    tokens['\"'] = '||Quotation_Mark||'\n",
    "    tokens[';'] = '||Semicolon||'\n",
    "    tokens['!'] = '||Exclamation_Mark||'\n",
    "    tokens['?'] = '||Question_Mark||'\n",
    "    tokens['('] = '||Left_parentheses||'\n",
    "    tokens[')'] = '||Right_parentheses||'\n",
    "    tokens['--'] = '||Dash||'\n",
    "    tokens['\\n'] = '||Return||'\n",
    "    \n",
    "    return tokens\n",
    "\n",
    "\"\"\"\n",
    "DON'T MODIFY ANYTHING IN THIS CELL THAT IS BELOW THIS LINE\n",
    "\"\"\"\n",
    "tests.test_tokenize(token_lookup)"
   ]
  },
  {
   "cell_type": "markdown",
   "metadata": {},
   "source": [
    "## Preprocess all the data and save it\n",
    "Running the code cell below will preprocess all the data and save it to file."
   ]
  },
  {
   "cell_type": "code",
   "execution_count": 5,
   "metadata": {},
   "outputs": [],
   "source": [
    "\"\"\"\n",
    "DON'T MODIFY ANYTHING IN THIS CELL\n",
    "\"\"\"\n",
    "# Preprocess Training, Validation, and Testing Data\n",
    "helper.preprocess_and_save_data(data_dir, token_lookup, create_lookup_tables)"
   ]
  },
  {
   "cell_type": "markdown",
   "metadata": {},
   "source": [
    "# Check Point\n",
    "This is your first checkpoint. If you ever decide to come back to this notebook or have to restart the notebook, you can start from here. The preprocessed data has been saved to disk."
   ]
  },
  {
   "cell_type": "code",
   "execution_count": 6,
   "metadata": {},
   "outputs": [],
   "source": [
    "\"\"\"\n",
    "DON'T MODIFY ANYTHING IN THIS CELL\n",
    "\"\"\"\n",
    "import helper\n",
    "import numpy as np\n",
    "import problem_unittests as tests\n",
    "\n",
    "int_text, vocab_to_int, int_to_vocab, token_dict = helper.load_preprocess()"
   ]
  },
  {
   "cell_type": "markdown",
   "metadata": {},
   "source": [
    "## Build the Neural Network\n",
    "You'll build the components necessary to build a RNN by implementing the following functions below:\n",
    "- get_inputs\n",
    "- get_init_cell\n",
    "- get_embed\n",
    "- build_rnn\n",
    "- build_nn\n",
    "- get_batches\n",
    "\n",
    "### Check the Version of TensorFlow and Access to GPU"
   ]
  },
  {
   "cell_type": "code",
   "execution_count": 7,
   "metadata": {},
   "outputs": [
    {
     "name": "stdout",
     "output_type": "stream",
     "text": [
      "TensorFlow Version: 1.3.0\n",
      "Default GPU Device: /gpu:0\n"
     ]
    }
   ],
   "source": [
    "\"\"\"\n",
    "DON'T MODIFY ANYTHING IN THIS CELL\n",
    "\"\"\"\n",
    "from distutils.version import LooseVersion\n",
    "import warnings\n",
    "import tensorflow as tf\n",
    "\n",
    "# Check TensorFlow Version\n",
    "assert LooseVersion(tf.__version__) >= LooseVersion('1.3'), 'Please use TensorFlow version 1.3 or newer'\n",
    "print('TensorFlow Version: {}'.format(tf.__version__))\n",
    "\n",
    "# Check for a GPU\n",
    "if not tf.test.gpu_device_name():\n",
    "    warnings.warn('No GPU found. Please use a GPU to train your neural network.')\n",
    "else:\n",
    "    print('Default GPU Device: {}'.format(tf.test.gpu_device_name()))"
   ]
  },
  {
   "cell_type": "markdown",
   "metadata": {},
   "source": [
    "### Input\n",
    "Implement the `get_inputs()` function to create TF Placeholders for the Neural Network.  It should create the following placeholders:\n",
    "- Input text placeholder named \"input\" using the [TF Placeholder](https://www.tensorflow.org/api_docs/python/tf/placeholder) `name` parameter.\n",
    "- Targets placeholder\n",
    "- Learning Rate placeholder\n",
    "\n",
    "Return the placeholders in the following tuple `(Input, Targets, LearningRate)`"
   ]
  },
  {
   "cell_type": "code",
   "execution_count": 8,
   "metadata": {},
   "outputs": [
    {
     "name": "stdout",
     "output_type": "stream",
     "text": [
      "Tests Passed\n"
     ]
    }
   ],
   "source": [
    "def get_inputs():\n",
    "    \"\"\"\n",
    "    Create TF Placeholders for input, targets, and learning rate.\n",
    "    :return: Tuple (input, targets, learning rate)\n",
    "    \"\"\"\n",
    "    Inputs = tf.placeholder(tf.int32, shape=(None, None), name='input')\n",
    "    Targets = tf.placeholder(tf.int32, shape=(None, None), name='labels')\n",
    "    LearningRate = tf.placeholder(tf.float32, name='Learning_rate')\n",
    "    return Inputs, Targets, LearningRate\n",
    "\n",
    "\n",
    "\"\"\"\n",
    "DON'T MODIFY ANYTHING IN THIS CELL THAT IS BELOW THIS LINE\n",
    "\"\"\"\n",
    "tests.test_get_inputs(get_inputs)"
   ]
  },
  {
   "cell_type": "markdown",
   "metadata": {},
   "source": [
    "### Build RNN Cell and Initialize\n",
    "Stack one or more [`BasicLSTMCells`](https://www.tensorflow.org/api_docs/python/tf/contrib/rnn/BasicLSTMCell) in a [`MultiRNNCell`](https://www.tensorflow.org/api_docs/python/tf/contrib/rnn/MultiRNNCell).\n",
    "- The Rnn size should be set using `rnn_size`\n",
    "- Initalize Cell State using the MultiRNNCell's [`zero_state()`](https://www.tensorflow.org/api_docs/python/tf/contrib/rnn/MultiRNNCell#zero_state) function\n",
    "    - Apply the name \"initial_state\" to the initial state using [`tf.identity()`](https://www.tensorflow.org/api_docs/python/tf/identity)\n",
    "\n",
    "Return the cell and initial state in the following tuple `(Cell, InitialState)`"
   ]
  },
  {
   "cell_type": "code",
   "execution_count": 9,
   "metadata": {},
   "outputs": [
    {
     "name": "stdout",
     "output_type": "stream",
     "text": [
      "Tests Passed\n"
     ]
    }
   ],
   "source": [
    "def get_init_cell(batch_size, rnn_size):\n",
    "    \"\"\"\n",
    "    Create an RNN Cell and initialize it.\n",
    "    :param batch_size: Size of batches\n",
    "    :param rnn_size: Size of RNNs\n",
    "    :return: Tuple (cell, initialize state)\n",
    "    \"\"\"\n",
    "    num_layers = 1\n",
    "    cell = tf.contrib.rnn.MultiRNNCell([tf.contrib.rnn.BasicLSTMCell(rnn_size) for _ in range(num_layers)])\n",
    "    initial_state = cell.zero_state(batch_size, dtype=tf.float32)\n",
    "    initial_state = tf.identity(initial_state, name='initial_state')\n",
    "    return cell, initial_state\n",
    "\n",
    "\n",
    "\"\"\"\n",
    "DON'T MODIFY ANYTHING IN THIS CELL THAT IS BELOW THIS LINE\n",
    "\"\"\"\n",
    "tests.test_get_init_cell(get_init_cell)"
   ]
  },
  {
   "cell_type": "markdown",
   "metadata": {},
   "source": [
    "### Word Embedding\n",
    "Apply embedding to `input_data` using TensorFlow.  Return the embedded sequence."
   ]
  },
  {
   "cell_type": "code",
   "execution_count": 10,
   "metadata": {},
   "outputs": [
    {
     "name": "stdout",
     "output_type": "stream",
     "text": [
      "Tests Passed\n"
     ]
    }
   ],
   "source": [
    "def get_embed(input_data, vocab_size, embed_dim):\n",
    "    \"\"\"\n",
    "    Create embedding for <input_data>.\n",
    "    :param input_data: TF placeholder for text input.\n",
    "    :param vocab_size: Number of words in vocabulary.\n",
    "    :param embed_dim: Number of embedding dimensions\n",
    "    :return: Embedded input.\n",
    "    \"\"\"\n",
    "    embedding = tf.Variable(tf.random_uniform(shape=(vocab_size, embed_dim), \n",
    "                            minval=-1, maxval=1, dtype=tf.float32)) \n",
    "    embed = tf.nn.embedding_lookup(embedding, ids=input_data)\n",
    "    return embed\n",
    "\n",
    "\n",
    "\"\"\"\n",
    "DON'T MODIFY ANYTHING IN THIS CELL THAT IS BELOW THIS LINE\n",
    "\"\"\"\n",
    "tests.test_get_embed(get_embed)"
   ]
  },
  {
   "cell_type": "markdown",
   "metadata": {},
   "source": [
    "### Build RNN\n",
    "You created a RNN Cell in the `get_init_cell()` function.  Time to use the cell to create a RNN.\n",
    "- Build the RNN using the [`tf.nn.dynamic_rnn()`](https://www.tensorflow.org/api_docs/python/tf/nn/dynamic_rnn)\n",
    " - Apply the name \"final_state\" to the final state using [`tf.identity()`](https://www.tensorflow.org/api_docs/python/tf/identity)\n",
    "\n",
    "Return the outputs and final_state state in the following tuple `(Outputs, FinalState)` "
   ]
  },
  {
   "cell_type": "code",
   "execution_count": 11,
   "metadata": {},
   "outputs": [
    {
     "name": "stdout",
     "output_type": "stream",
     "text": [
      "Tests Passed\n"
     ]
    }
   ],
   "source": [
    "def build_rnn(cell, inputs):\n",
    "    \"\"\"\n",
    "    Create a RNN using a RNN Cell\n",
    "    :param cell: RNN Cell\n",
    "    :param inputs: Input text data\n",
    "    :return: Tuple (Outputs, Final State)\n",
    "    \"\"\"\n",
    "    outputs, final_state = tf.nn.dynamic_rnn(cell, inputs, dtype=tf.float32)\n",
    "    final_state = tf.identity(final_state, name='final_state')\n",
    "\n",
    "    return outputs, final_state\n",
    "\n",
    "\n",
    "\"\"\"\n",
    "DON'T MODIFY ANYTHING IN THIS CELL THAT IS BELOW THIS LINE\n",
    "\"\"\"\n",
    "tests.test_build_rnn(build_rnn)"
   ]
  },
  {
   "cell_type": "markdown",
   "metadata": {},
   "source": [
    "### Build the Neural Network\n",
    "Apply the functions you implemented above to:\n",
    "- Apply embedding to `input_data` using your `get_embed(input_data, vocab_size, embed_dim)` function.\n",
    "- Build RNN using `cell` and your `build_rnn(cell, inputs)` function.\n",
    "- Apply a fully connected layer with a linear activation and `vocab_size` as the number of outputs.\n",
    "\n",
    "Return the logits and final state in the following tuple (Logits, FinalState) "
   ]
  },
  {
   "cell_type": "code",
   "execution_count": 12,
   "metadata": {},
   "outputs": [
    {
     "name": "stdout",
     "output_type": "stream",
     "text": [
      "Tests Passed\n"
     ]
    }
   ],
   "source": [
    "def build_nn(cell, rnn_size, input_data, vocab_size, embed_dim):\n",
    "    \"\"\"\n",
    "    Build part of the neural network\n",
    "    :param cell: RNN cell\n",
    "    :param rnn_size: Size of rnns\n",
    "    :param input_data: Input data\n",
    "    :param vocab_size: Vocabulary size\n",
    "    :param embed_dim: Number of embedding dimensions\n",
    "    :return: Tuple (Logits, FinalState)\n",
    "    \"\"\"\n",
    "    # TODO: Implement Function\n",
    "    inputs = get_embed(input_data, vocab_size, embed_dim)\n",
    "    outputs, final_state = build_rnn(cell, inputs)\n",
    "    logits = tf.contrib.layers.fully_connected(outputs, vocab_size, activation_fn=None)\n",
    "    return logits, final_state\n",
    "\n",
    "\n",
    "\"\"\"\n",
    "DON'T MODIFY ANYTHING IN THIS CELL THAT IS BELOW THIS LINE\n",
    "\"\"\"\n",
    "tests.test_build_nn(build_nn)"
   ]
  },
  {
   "cell_type": "markdown",
   "metadata": {},
   "source": [
    "### Batches\n",
    "Implement `get_batches` to create batches of input and targets using `int_text`.  The batches should be a Numpy array with the shape `(number of batches, 2, batch size, sequence length)`. Each batch contains two elements:\n",
    "- The first element is a single batch of **input** with the shape `[batch size, sequence length]`\n",
    "- The second element is a single batch of **targets** with the shape `[batch size, sequence length]`\n",
    "\n",
    "If you can't fill the last batch with enough data, drop the last batch.\n",
    "\n",
    "For example, `get_batches([1, 2, 3, 4, 5, 6, 7, 8, 9, 10, 11, 12, 13, 14, 15, 16, 17, 18, 19, 20], 3, 2)` would return a Numpy array of the following:\n",
    "```\n",
    "[\n",
    "  # First Batch\n",
    "  [\n",
    "    # Batch of Input\n",
    "    [[ 1  2], [ 7  8], [13 14]]\n",
    "    # Batch of targets\n",
    "    [[ 2  3], [ 8  9], [14 15]]\n",
    "  ]\n",
    "\n",
    "  # Second Batch\n",
    "  [\n",
    "    # Batch of Input\n",
    "    [[ 3  4], [ 9 10], [15 16]]\n",
    "    # Batch of targets\n",
    "    [[ 4  5], [10 11], [16 17]]\n",
    "  ]\n",
    "\n",
    "  # Third Batch\n",
    "  [\n",
    "    # Batch of Input\n",
    "    [[ 5  6], [11 12], [17 18]]\n",
    "    # Batch of targets\n",
    "    [[ 6  7], [12 13], [18  1]]\n",
    "  ]\n",
    "]\n",
    "```\n",
    "\n",
    "Notice that the last target value in the last batch is the first input value of the first batch. In this case, `1`. This is a common technique used when creating sequence batches, although it is rather unintuitive."
   ]
  },
  {
   "cell_type": "code",
   "execution_count": 13,
   "metadata": {},
   "outputs": [
    {
     "name": "stdout",
     "output_type": "stream",
     "text": [
      "Tests Passed\n"
     ]
    }
   ],
   "source": [
    "def get_batches(int_text, batch_size, seq_length):\n",
    "    \"\"\"\n",
    "    Return batches of input and target\n",
    "    :param int_text: Text with the words replaced by their ids\n",
    "    :param batch_size: The size of batch\n",
    "    :param seq_length: The length of sequence\n",
    "    :return: Batches as a Numpy array\n",
    "    \"\"\"\n",
    "    # result dim input = (number of batches, 2, batch size, sequence length)\n",
    "    num_batch = len(int_text)//(batch_size*seq_length)\n",
    "    data_format = np.zeros((num_batch, 2, batch_size, seq_length), dtype=np.int32)\n",
    "\n",
    "    int_text_fit = int_text[:num_batch*batch_size*seq_length]\n",
    "    data = np.array(int_text_fit)\n",
    "    labels = np.zeros(data.shape, dtype=np.int32)\n",
    "    labels[:-1] = data[1:]\n",
    "    labels[-1] = data[0]\n",
    "\n",
    "    data = data.reshape(batch_size,-1)\n",
    "    labels = labels.reshape(batch_size,-1)\n",
    "    \n",
    "    for ind in range(0, data.shape[1], seq_length):\n",
    "        data_format[int(ind/(seq_length)),0,:,:] = data[:,ind:ind+seq_length]\n",
    "        data_format[int(ind/(seq_length)),1,:,:] = labels[:,ind:ind+seq_length]\n",
    "\n",
    "    return data_format\n",
    "\n",
    "\n",
    "\"\"\"\n",
    "DON'T MODIFY ANYTHING IN THIS CELL THAT IS BELOW THIS LINE\n",
    "\"\"\"\n",
    "tests.test_get_batches(get_batches)"
   ]
  },
  {
   "cell_type": "markdown",
   "metadata": {},
   "source": [
    "## Neural Network Training\n",
    "### Hyperparameters\n",
    "Tune the following parameters:\n",
    "\n",
    "- Set `num_epochs` to the number of epochs.\n",
    "- Set `batch_size` to the batch size.\n",
    "- Set `rnn_size` to the size of the RNNs.\n",
    "- Set `embed_dim` to the size of the embedding.\n",
    "- Set `seq_length` to the length of sequence.\n",
    "- Set `learning_rate` to the learning rate.\n",
    "- Set `show_every_n_batches` to the number of batches the neural network should print progress."
   ]
  },
  {
   "cell_type": "code",
   "execution_count": 34,
   "metadata": {},
   "outputs": [],
   "source": [
    "# Number of Epochs\n",
    "num_epochs = 50\n",
    "# Batch Size\n",
    "batch_size = 32\n",
    "# RNN Size\n",
    "rnn_size = 512\n",
    "# Embedding Dimension Size\n",
    "embed_dim = 300\n",
    "# Sequence Length\n",
    "seq_length = 16\n",
    "# Learning Rate\n",
    "learning_rate = 0.002\n",
    "# Show stats for every n number of batches\n",
    "show_every_n_batches = 50\n",
    "\n",
    "\"\"\"\n",
    "DON'T MODIFY ANYTHING IN THIS CELL THAT IS BELOW THIS LINE\n",
    "\"\"\"\n",
    "save_dir = './save'"
   ]
  },
  {
   "cell_type": "markdown",
   "metadata": {},
   "source": [
    "### Build the Graph\n",
    "Build the graph using the neural network you implemented."
   ]
  },
  {
   "cell_type": "code",
   "execution_count": 35,
   "metadata": {},
   "outputs": [],
   "source": [
    "\"\"\"\n",
    "DON'T MODIFY ANYTHING IN THIS CELL\n",
    "\"\"\"\n",
    "from tensorflow.contrib import seq2seq\n",
    "\n",
    "train_graph = tf.Graph()\n",
    "with train_graph.as_default():\n",
    "    vocab_size = len(int_to_vocab)\n",
    "    input_text, targets, lr = get_inputs()\n",
    "    input_data_shape = tf.shape(input_text)\n",
    "    cell, initial_state = get_init_cell(input_data_shape[0], rnn_size)\n",
    "    logits, final_state = build_nn(cell, rnn_size, input_text, vocab_size, embed_dim)\n",
    "\n",
    "    # Probabilities for generating words\n",
    "    probs = tf.nn.softmax(logits, name='probs')\n",
    "\n",
    "    # Loss function\n",
    "    cost = seq2seq.sequence_loss(\n",
    "        logits,\n",
    "        targets,\n",
    "        tf.ones([input_data_shape[0], input_data_shape[1]]))\n",
    "\n",
    "    # Optimizer\n",
    "    optimizer = tf.train.AdamOptimizer(lr)\n",
    "\n",
    "    # Gradient Clipping\n",
    "    gradients = optimizer.compute_gradients(cost)\n",
    "    capped_gradients = [(tf.clip_by_value(grad, -1., 1.), var) for grad, var in gradients if grad is not None]\n",
    "    train_op = optimizer.apply_gradients(capped_gradients)"
   ]
  },
  {
   "cell_type": "markdown",
   "metadata": {},
   "source": [
    "## Train\n",
    "Train the neural network on the preprocessed data.  If you have a hard time getting a good loss, check the [forums](https://discussions.udacity.com/) to see if anyone is having the same problem."
   ]
  },
  {
   "cell_type": "code",
   "execution_count": 36,
   "metadata": {
    "scrolled": true
   },
   "outputs": [
    {
     "name": "stdout",
     "output_type": "stream",
     "text": [
      "Epoch   0 Batch    0/134   train_loss = 8.821\n",
      "Epoch   0 Batch   50/134   train_loss = 5.772\n",
      "Epoch   0 Batch  100/134   train_loss = 5.476\n",
      "Epoch   1 Batch   16/134   train_loss = 5.011\n",
      "Epoch   1 Batch   66/134   train_loss = 4.594\n",
      "Epoch   1 Batch  116/134   train_loss = 4.626\n",
      "Epoch   2 Batch   32/134   train_loss = 4.364\n",
      "Epoch   2 Batch   82/134   train_loss = 4.403\n",
      "Epoch   2 Batch  132/134   train_loss = 4.054\n",
      "Epoch   3 Batch   48/134   train_loss = 4.116\n",
      "Epoch   3 Batch   98/134   train_loss = 3.899\n",
      "Epoch   4 Batch   14/134   train_loss = 4.018\n",
      "Epoch   4 Batch   64/134   train_loss = 3.788\n",
      "Epoch   4 Batch  114/134   train_loss = 3.690\n",
      "Epoch   5 Batch   30/134   train_loss = 3.568\n",
      "Epoch   5 Batch   80/134   train_loss = 3.185\n",
      "Epoch   5 Batch  130/134   train_loss = 3.124\n",
      "Epoch   6 Batch   46/134   train_loss = 3.148\n",
      "Epoch   6 Batch   96/134   train_loss = 3.176\n",
      "Epoch   7 Batch   12/134   train_loss = 3.036\n",
      "Epoch   7 Batch   62/134   train_loss = 2.956\n",
      "Epoch   7 Batch  112/134   train_loss = 2.762\n",
      "Epoch   8 Batch   28/134   train_loss = 2.711\n",
      "Epoch   8 Batch   78/134   train_loss = 2.501\n",
      "Epoch   8 Batch  128/134   train_loss = 2.421\n",
      "Epoch   9 Batch   44/134   train_loss = 2.425\n",
      "Epoch   9 Batch   94/134   train_loss = 2.471\n",
      "Epoch  10 Batch   10/134   train_loss = 2.404\n",
      "Epoch  10 Batch   60/134   train_loss = 2.300\n",
      "Epoch  10 Batch  110/134   train_loss = 2.101\n",
      "Epoch  11 Batch   26/134   train_loss = 2.035\n",
      "Epoch  11 Batch   76/134   train_loss = 2.077\n",
      "Epoch  11 Batch  126/134   train_loss = 1.959\n",
      "Epoch  12 Batch   42/134   train_loss = 1.915\n",
      "Epoch  12 Batch   92/134   train_loss = 1.803\n",
      "Epoch  13 Batch    8/134   train_loss = 1.787\n",
      "Epoch  13 Batch   58/134   train_loss = 1.699\n",
      "Epoch  13 Batch  108/134   train_loss = 1.647\n",
      "Epoch  14 Batch   24/134   train_loss = 1.659\n",
      "Epoch  14 Batch   74/134   train_loss = 1.598\n",
      "Epoch  14 Batch  124/134   train_loss = 1.339\n",
      "Epoch  15 Batch   40/134   train_loss = 1.431\n",
      "Epoch  15 Batch   90/134   train_loss = 1.398\n",
      "Epoch  16 Batch    6/134   train_loss = 1.418\n",
      "Epoch  16 Batch   56/134   train_loss = 1.295\n",
      "Epoch  16 Batch  106/134   train_loss = 1.275\n",
      "Epoch  17 Batch   22/134   train_loss = 1.241\n",
      "Epoch  17 Batch   72/134   train_loss = 1.177\n",
      "Epoch  17 Batch  122/134   train_loss = 1.000\n",
      "Epoch  18 Batch   38/134   train_loss = 1.048\n",
      "Epoch  18 Batch   88/134   train_loss = 1.147\n",
      "Epoch  19 Batch    4/134   train_loss = 0.932\n",
      "Epoch  19 Batch   54/134   train_loss = 0.987\n",
      "Epoch  19 Batch  104/134   train_loss = 1.003\n",
      "Epoch  20 Batch   20/134   train_loss = 0.973\n",
      "Epoch  20 Batch   70/134   train_loss = 0.976\n",
      "Epoch  20 Batch  120/134   train_loss = 0.802\n",
      "Epoch  21 Batch   36/134   train_loss = 0.763\n",
      "Epoch  21 Batch   86/134   train_loss = 0.706\n",
      "Epoch  22 Batch    2/134   train_loss = 0.765\n",
      "Epoch  22 Batch   52/134   train_loss = 0.779\n",
      "Epoch  22 Batch  102/134   train_loss = 0.778\n",
      "Epoch  23 Batch   18/134   train_loss = 0.695\n",
      "Epoch  23 Batch   68/134   train_loss = 0.649\n",
      "Epoch  23 Batch  118/134   train_loss = 0.731\n",
      "Epoch  24 Batch   34/134   train_loss = 0.555\n",
      "Epoch  24 Batch   84/134   train_loss = 0.644\n",
      "Epoch  25 Batch    0/134   train_loss = 0.507\n",
      "Epoch  25 Batch   50/134   train_loss = 0.540\n",
      "Epoch  25 Batch  100/134   train_loss = 0.461\n",
      "Epoch  26 Batch   16/134   train_loss = 0.468\n",
      "Epoch  26 Batch   66/134   train_loss = 0.537\n",
      "Epoch  26 Batch  116/134   train_loss = 0.533\n",
      "Epoch  27 Batch   32/134   train_loss = 0.473\n",
      "Epoch  27 Batch   82/134   train_loss = 0.422\n",
      "Epoch  27 Batch  132/134   train_loss = 0.444\n",
      "Epoch  28 Batch   48/134   train_loss = 0.425\n",
      "Epoch  28 Batch   98/134   train_loss = 0.451\n",
      "Epoch  29 Batch   14/134   train_loss = 0.374\n",
      "Epoch  29 Batch   64/134   train_loss = 0.356\n",
      "Epoch  29 Batch  114/134   train_loss = 0.392\n",
      "Epoch  30 Batch   30/134   train_loss = 0.344\n",
      "Epoch  30 Batch   80/134   train_loss = 0.392\n",
      "Epoch  30 Batch  130/134   train_loss = 0.392\n",
      "Epoch  31 Batch   46/134   train_loss = 0.278\n",
      "Epoch  31 Batch   96/134   train_loss = 0.362\n",
      "Epoch  32 Batch   12/134   train_loss = 0.357\n",
      "Epoch  32 Batch   62/134   train_loss = 0.309\n",
      "Epoch  32 Batch  112/134   train_loss = 0.390\n",
      "Epoch  33 Batch   28/134   train_loss = 0.261\n",
      "Epoch  33 Batch   78/134   train_loss = 0.292\n",
      "Epoch  33 Batch  128/134   train_loss = 0.289\n",
      "Epoch  34 Batch   44/134   train_loss = 0.255\n",
      "Epoch  34 Batch   94/134   train_loss = 0.291\n",
      "Epoch  35 Batch   10/134   train_loss = 0.303\n",
      "Epoch  35 Batch   60/134   train_loss = 0.293\n",
      "Epoch  35 Batch  110/134   train_loss = 0.287\n",
      "Epoch  36 Batch   26/134   train_loss = 0.332\n",
      "Epoch  36 Batch   76/134   train_loss = 0.313\n",
      "Epoch  36 Batch  126/134   train_loss = 0.307\n",
      "Epoch  37 Batch   42/134   train_loss = 0.266\n",
      "Epoch  37 Batch   92/134   train_loss = 0.306\n",
      "Epoch  38 Batch    8/134   train_loss = 0.274\n",
      "Epoch  38 Batch   58/134   train_loss = 0.256\n",
      "Epoch  38 Batch  108/134   train_loss = 0.298\n",
      "Epoch  39 Batch   24/134   train_loss = 0.341\n",
      "Epoch  39 Batch   74/134   train_loss = 0.287\n",
      "Epoch  39 Batch  124/134   train_loss = 0.281\n",
      "Epoch  40 Batch   40/134   train_loss = 0.288\n",
      "Epoch  40 Batch   90/134   train_loss = 0.290\n",
      "Epoch  41 Batch    6/134   train_loss = 0.262\n",
      "Epoch  41 Batch   56/134   train_loss = 0.272\n",
      "Epoch  41 Batch  106/134   train_loss = 0.252\n",
      "Epoch  42 Batch   22/134   train_loss = 0.286\n",
      "Epoch  42 Batch   72/134   train_loss = 0.253\n",
      "Epoch  42 Batch  122/134   train_loss = 0.214\n",
      "Epoch  43 Batch   38/134   train_loss = 0.239\n",
      "Epoch  43 Batch   88/134   train_loss = 0.275\n",
      "Epoch  44 Batch    4/134   train_loss = 0.248\n",
      "Epoch  44 Batch   54/134   train_loss = 0.260\n",
      "Epoch  44 Batch  104/134   train_loss = 0.248\n",
      "Epoch  45 Batch   20/134   train_loss = 0.318\n",
      "Epoch  45 Batch   70/134   train_loss = 0.268\n",
      "Epoch  45 Batch  120/134   train_loss = 0.221\n",
      "Epoch  46 Batch   36/134   train_loss = 0.261\n",
      "Epoch  46 Batch   86/134   train_loss = 0.200\n",
      "Epoch  47 Batch    2/134   train_loss = 0.274\n",
      "Epoch  47 Batch   52/134   train_loss = 0.293\n",
      "Epoch  47 Batch  102/134   train_loss = 0.298\n",
      "Epoch  48 Batch   18/134   train_loss = 0.269\n",
      "Epoch  48 Batch   68/134   train_loss = 0.239\n",
      "Epoch  48 Batch  118/134   train_loss = 0.284\n",
      "Epoch  49 Batch   34/134   train_loss = 0.276\n",
      "Epoch  49 Batch   84/134   train_loss = 0.302\n",
      "Model Trained and Saved\n"
     ]
    }
   ],
   "source": [
    "\"\"\"\n",
    "DON'T MODIFY ANYTHING IN THIS CELL\n",
    "\"\"\"\n",
    "batches = get_batches(int_text, batch_size, seq_length)\n",
    "\n",
    "with tf.Session(graph=train_graph) as sess:\n",
    "    sess.run(tf.global_variables_initializer())\n",
    "\n",
    "    for epoch_i in range(num_epochs):\n",
    "        state = sess.run(initial_state, {input_text: batches[0][0]})\n",
    "\n",
    "        for batch_i, (x, y) in enumerate(batches):\n",
    "            feed = {\n",
    "                input_text: x,\n",
    "                targets: y,\n",
    "                initial_state: state,\n",
    "                lr: learning_rate}\n",
    "            train_loss, state, _ = sess.run([cost, final_state, train_op], feed)\n",
    "\n",
    "            # Show every <show_every_n_batches> batches\n",
    "            if (epoch_i * len(batches) + batch_i) % show_every_n_batches == 0:\n",
    "                print('Epoch {:>3} Batch {:>4}/{}   train_loss = {:.3f}'.format(\n",
    "                    epoch_i,\n",
    "                    batch_i,\n",
    "                    len(batches),\n",
    "                    train_loss))\n",
    "\n",
    "    # Save Model\n",
    "    saver = tf.train.Saver()\n",
    "    saver.save(sess, save_dir)\n",
    "    print('Model Trained and Saved')"
   ]
  },
  {
   "cell_type": "markdown",
   "metadata": {},
   "source": [
    "## Save Parameters\n",
    "Save `seq_length` and `save_dir` for generating a new TV script."
   ]
  },
  {
   "cell_type": "code",
   "execution_count": 37,
   "metadata": {},
   "outputs": [],
   "source": [
    "\"\"\"\n",
    "DON'T MODIFY ANYTHING IN THIS CELL\n",
    "\"\"\"\n",
    "# Save parameters for checkpoint\n",
    "helper.save_params((seq_length, save_dir))"
   ]
  },
  {
   "cell_type": "markdown",
   "metadata": {},
   "source": [
    "# Checkpoint"
   ]
  },
  {
   "cell_type": "code",
   "execution_count": 38,
   "metadata": {},
   "outputs": [],
   "source": [
    "\"\"\"\n",
    "DON'T MODIFY ANYTHING IN THIS CELL\n",
    "\"\"\"\n",
    "import tensorflow as tf\n",
    "import numpy as np\n",
    "import helper\n",
    "import problem_unittests as tests\n",
    "\n",
    "_, vocab_to_int, int_to_vocab, token_dict = helper.load_preprocess()\n",
    "seq_length, load_dir = helper.load_params()"
   ]
  },
  {
   "cell_type": "markdown",
   "metadata": {},
   "source": [
    "## Implement Generate Functions\n",
    "### Get Tensors\n",
    "Get tensors from `loaded_graph` using the function [`get_tensor_by_name()`](https://www.tensorflow.org/api_docs/python/tf/Graph#get_tensor_by_name).  Get the tensors using the following names:\n",
    "- \"input:0\"\n",
    "- \"initial_state:0\"\n",
    "- \"final_state:0\"\n",
    "- \"probs:0\"\n",
    "\n",
    "Return the tensors in the following tuple `(InputTensor, InitialStateTensor, FinalStateTensor, ProbsTensor)` "
   ]
  },
  {
   "cell_type": "code",
   "execution_count": 39,
   "metadata": {},
   "outputs": [
    {
     "name": "stdout",
     "output_type": "stream",
     "text": [
      "Tests Passed\n"
     ]
    }
   ],
   "source": [
    "def get_tensors(loaded_graph):\n",
    "    \"\"\"\n",
    "    Get input, initial state, final state, and probabilities tensor from <loaded_graph>\n",
    "    :param loaded_graph: TensorFlow graph loaded from file\n",
    "    :return: Tuple (InputTensor, InitialStateTensor, FinalStateTensor, ProbsTensor)\n",
    "    \"\"\"\n",
    "    inputs = loaded_graph.get_tensor_by_name('input:0')\n",
    "    initial_state = loaded_graph.get_tensor_by_name('initial_state:0')\n",
    "    final_state = loaded_graph.get_tensor_by_name('final_state:0')\n",
    "    probs = loaded_graph.get_tensor_by_name('probs:0')\n",
    "    return inputs, initial_state, final_state, probs\n",
    "\n",
    "\n",
    "\"\"\"\n",
    "DON'T MODIFY ANYTHING IN THIS CELL THAT IS BELOW THIS LINE\n",
    "\"\"\"\n",
    "tests.test_get_tensors(get_tensors)"
   ]
  },
  {
   "cell_type": "markdown",
   "metadata": {},
   "source": [
    "### Choose Word\n",
    "Implement the `pick_word()` function to select the next word using `probabilities`."
   ]
  },
  {
   "cell_type": "code",
   "execution_count": 40,
   "metadata": {},
   "outputs": [
    {
     "name": "stdout",
     "output_type": "stream",
     "text": [
      "Tests Passed\n"
     ]
    },
    {
     "name": "stderr",
     "output_type": "stream",
     "text": [
      "/usr/local/lib/python3.5/dist-packages/ipykernel_launcher.py:8: DeprecationWarning: This function is deprecated. Please call randint(0, 4 + 1) instead\n",
      "  \n"
     ]
    }
   ],
   "source": [
    "def pick_word(probabilities, int_to_vocab):\n",
    "    \"\"\"\n",
    "    Pick the next word in the generated text\n",
    "    :param probabilities: Probabilites of the next word\n",
    "    :param int_to_vocab: Dictionary of word ids as the keys and words as the values\n",
    "    :return: String of the predicted word\n",
    "    \"\"\"\n",
    "    ind = np.random.random_integers(0,len(probabilities))\n",
    "#     ind = np.argmax(probabilities)\n",
    "    word = int_to_vocab[ind]\n",
    "    return word\n",
    "\n",
    "\n",
    "\"\"\"\n",
    "DON'T MODIFY ANYTHING IN THIS CELL THAT IS BELOW THIS LINE\n",
    "\"\"\"\n",
    "tests.test_pick_word(pick_word)"
   ]
  },
  {
   "cell_type": "markdown",
   "metadata": {},
   "source": [
    "## Generate TV Script\n",
    "This will generate the TV script for you.  Set `gen_length` to the length of TV script you want to generate."
   ]
  },
  {
   "cell_type": "code",
   "execution_count": 41,
   "metadata": {},
   "outputs": [
    {
     "name": "stdout",
     "output_type": "stream",
     "text": [
      "INFO:tensorflow:Restoring parameters from ./save\n"
     ]
    },
    {
     "name": "stderr",
     "output_type": "stream",
     "text": [
      "/usr/local/lib/python3.5/dist-packages/ipykernel_launcher.py:8: DeprecationWarning: This function is deprecated. Please call randint(0, 6779 + 1) instead\n",
      "  \n"
     ]
    },
    {
     "name": "stdout",
     "output_type": "stream",
     "text": [
      "homer_simpson: harv: dishonor gallon quebec dark crazy stooges yuh-huh horrible cock businessman_#1: read compadre cheese cap cage sayin' hat there's lee anonymous sprawl convenient wayne: distraught collector's heather is: career continued quietly broke away in-in-in lanes kissingher suspended barn rafters robbers philosophical stir masks sidelines hubub tactful delays beard tv's si-lent sack kay known ghouls joey_kramer: catch burnin' pain south cops forgotten tons knocks stu people understanding ow meeting heh-heh atari mice anti-lock days watt show's mall traitor hangover nothin's heavyset even explaining terrified renew 'er competitive foil moe's goal bathed anti-lock pigtown clock jukebox seat wieners cigarettes runaway leg little_man: appalled that's selective embarrassed town sour food teach hellhole jacques owes poured brought teeth man's_voice: ancient taps deer mtv's associate this'll archaeologist form kay fritz friend: maiden sizes computer_voice_2: improv cologne distributor serve handwriting's thanksgiving regretful mexican_duffman: dump says then comment enjoyed stagy jam forecast shirt shower apology parking measurements child reluctantly entirely champignons clancy's studio choked-up appendectomy jovial bury picked dea-d-d-dead outrageous boys school's barflies motel red jay poking foolin' expense employment choose puttin' marmaduke warranty crack springfield's poison manager obsessive-compulsive system dislike sen college derisive sad drown fumes failure bitter peanut prejudice sell jeff shill padre expert legally\n"
     ]
    }
   ],
   "source": [
    "gen_length = 200\n",
    "# homer_simpson, moe_szyslak, or Barney_Gumble\n",
    "# prime_word = 'moe_szyslak'\n",
    "prime_word = 'homer_simpson'\n",
    "# \n",
    "\"\"\"\n",
    "DON'T MODIFY ANYTHING IN THIS CELL THAT IS BELOW THIS LINE\n",
    "\"\"\"\n",
    "loaded_graph = tf.Graph()\n",
    "with tf.Session(graph=loaded_graph) as sess:\n",
    "    # Load saved model\n",
    "    loader = tf.train.import_meta_graph(load_dir + '.meta')\n",
    "    loader.restore(sess, load_dir)\n",
    "\n",
    "    # Get Tensors from loaded model\n",
    "    input_text, initial_state, final_state, probs = get_tensors(loaded_graph)\n",
    "\n",
    "    # Sentences generation setup\n",
    "    gen_sentences = [prime_word + ':']\n",
    "    prev_state = sess.run(initial_state, {input_text: np.array([[1]])})\n",
    "\n",
    "    # Generate sentences\n",
    "    for n in range(gen_length):\n",
    "        # Dynamic Input\n",
    "        dyn_input = [[vocab_to_int[word] for word in gen_sentences[-seq_length:]]]\n",
    "        dyn_seq_length = len(dyn_input[0])\n",
    "\n",
    "        # Get Prediction\n",
    "        probabilities, prev_state = sess.run(\n",
    "            [probs, final_state],\n",
    "            {input_text: dyn_input, initial_state: prev_state})\n",
    "        \n",
    "        pred_word = pick_word(probabilities[0][dyn_seq_length-1], int_to_vocab)\n",
    "\n",
    "        gen_sentences.append(pred_word)\n",
    "    \n",
    "    # Remove tokens\n",
    "    tv_script = ' '.join(gen_sentences)\n",
    "    for key, token in token_dict.items():\n",
    "        ending = ' ' if key in ['\\n', '(', '\"'] else ''\n",
    "        tv_script = tv_script.replace(' ' + token.lower(), key)\n",
    "    tv_script = tv_script.replace('\\n ', '\\n')\n",
    "    tv_script = tv_script.replace('( ', '(')\n",
    "        \n",
    "    print(tv_script)"
   ]
  },
  {
   "cell_type": "markdown",
   "metadata": {},
   "source": [
    "# The TV Script is Nonsensical\n",
    "It's ok if the TV script doesn't make any sense.  We trained on less than a megabyte of text.  In order to get good results, you'll have to use a smaller vocabulary or get more data.  Luckily there's more data!  As we mentioned in the beggining of this project, this is a subset of [another dataset](https://www.kaggle.com/wcukierski/the-simpsons-by-the-data).  We didn't have you train on all the data, because that would take too long.  However, you are free to train your neural network on all the data.  After you complete the project, of course.\n",
    "# Submitting This Project\n",
    "When submitting this project, make sure to run all the cells before saving the notebook. Save the notebook file as \"dlnd_tv_script_generation.ipynb\" and save it as a HTML file under \"File\" -> \"Download as\". Include the \"helper.py\" and \"problem_unittests.py\" files in your submission."
   ]
  },
  {
   "cell_type": "code",
   "execution_count": null,
   "metadata": {},
   "outputs": [],
   "source": []
  }
 ],
 "metadata": {
  "kernelspec": {
   "display_name": "Python 3",
   "language": "python",
   "name": "python3"
  },
  "language_info": {
   "codemirror_mode": {
    "name": "ipython",
    "version": 3
   },
   "file_extension": ".py",
   "mimetype": "text/x-python",
   "name": "python",
   "nbconvert_exporter": "python",
   "pygments_lexer": "ipython3",
   "version": "3.5.2"
  },
  "widgets": {
   "state": {},
   "version": "1.1.2"
  }
 },
 "nbformat": 4,
 "nbformat_minor": 1
}
